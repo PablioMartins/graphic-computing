{
 "cells": [
  {
   "cell_type": "code",
   "execution_count": 135,
   "metadata": {},
   "outputs": [],
   "source": [
    "\"\"\"\n",
    "@file sobel_demo.py\n",
    "@brief Sample code using Sobel and/or Scharr OpenCV functions to make a simple Edge Detector\n",
    "\"\"\"\n",
    "import sys\n",
    "import cv2 as cv\n",
    "import numpy as np\n",
    "from matplotlib import pyplot as plt\n"
   ]
  },
  {
   "cell_type": "code",
   "execution_count": 136,
   "metadata": {},
   "outputs": [],
   "source": [
    "src = np.array([[0, 0, 0, 0, 0, 0, 0, 0, 0, 0, 0, 0],\n",
    "                [0, 0, 0, 0, 0, 0, 0, 0, 0, 0, 0, 0],\n",
    "                [0, 0, 0, 0, 1, 1, 1, 1, 0, 0, 0, 0],\n",
    "                [0, 0, 0, 1, 1, 1, 1, 1, 1, 0, 0, 0],\n",
    "                [0, 0, 1, 1, 1, 1, 1, 1, 1, 1, 0, 0],\n",
    "                [0, 0, 1, 1, 1, 1, 1, 1, 1, 1, 0, 0],\n",
    "                [0, 0, 1, 1, 1, 1, 1, 1, 1, 1, 0, 0],\n",
    "                [0, 0, 0, 1, 1, 1, 1, 1, 1, 1, 0, 0],\n",
    "                [0, 0, 0, 0, 1, 1, 1, 1, 1, 0, 0, 0],\n",
    "                [0, 0, 0, 0, 0, 1, 1, 1, 0, 0, 0, 0],\n",
    "                [0, 0, 0, 0, 0, 0, 0, 0, 0, 0, 0, 0],\n",
    "                [0, 0, 0, 0, 0, 0, 0, 0, 0, 0, 0, 0]], dtype=int)"
   ]
  },
  {
   "cell_type": "code",
   "execution_count": 137,
   "metadata": {},
   "outputs": [],
   "source": [
    "src = src.astype(np.uint8)"
   ]
  },
  {
   "cell_type": "code",
   "execution_count": 138,
   "metadata": {},
   "outputs": [
    {
     "data": {
      "text/plain": [
       "dtype('uint8')"
      ]
     },
     "execution_count": 138,
     "metadata": {},
     "output_type": "execute_result"
    }
   ],
   "source": [
    "src.dtype"
   ]
  },
  {
   "cell_type": "code",
   "execution_count": 139,
   "metadata": {},
   "outputs": [
    {
     "name": "stdout",
     "output_type": "stream",
     "text": [
      "<class 'numpy.ndarray'>\n"
     ]
    }
   ],
   "source": [
    "print(type(src))"
   ]
  },
  {
   "cell_type": "code",
   "execution_count": 140,
   "metadata": {},
   "outputs": [
    {
     "data": {
      "text/plain": [
       "array([[0, 0, 0, 0, 0, 0, 0, 0, 0, 0, 0, 0],\n",
       "       [0, 0, 0, 0, 0, 0, 0, 0, 0, 0, 0, 0],\n",
       "       [0, 0, 0, 0, 1, 1, 1, 1, 0, 0, 0, 0],\n",
       "       [0, 0, 0, 1, 1, 1, 1, 1, 1, 0, 0, 0],\n",
       "       [0, 0, 1, 1, 1, 1, 1, 1, 1, 1, 0, 0],\n",
       "       [0, 0, 1, 1, 1, 1, 1, 1, 1, 1, 0, 0],\n",
       "       [0, 0, 1, 1, 1, 1, 1, 1, 1, 1, 0, 0],\n",
       "       [0, 0, 0, 1, 1, 1, 1, 1, 1, 1, 0, 0],\n",
       "       [0, 0, 0, 0, 1, 1, 1, 1, 1, 0, 0, 0],\n",
       "       [0, 0, 0, 0, 0, 1, 1, 1, 0, 0, 0, 0],\n",
       "       [0, 0, 0, 0, 0, 0, 0, 0, 0, 0, 0, 0],\n",
       "       [0, 0, 0, 0, 0, 0, 0, 0, 0, 0, 0, 0]], dtype=uint8)"
      ]
     },
     "execution_count": 140,
     "metadata": {},
     "output_type": "execute_result"
    }
   ],
   "source": [
    "src"
   ]
  },
  {
   "cell_type": "code",
   "execution_count": 141,
   "metadata": {},
   "outputs": [],
   "source": [
    "sobelx = cv.Sobel(src,cv.CV_64F,1,0,ksize=3)"
   ]
  },
  {
   "cell_type": "code",
   "execution_count": 142,
   "metadata": {},
   "outputs": [
    {
     "data": {
      "text/plain": [
       "array([[ 0.,  0.,  0.,  0.,  0.,  0.,  0.,  0.,  0.,  0.,  0.,  0.],\n",
       "       [ 0.,  0.,  0.,  1.,  1.,  0.,  0., -1., -1.,  0.,  0.,  0.],\n",
       "       [ 0.,  0.,  1.,  3.,  2.,  0.,  0., -2., -3., -1.,  0.,  0.],\n",
       "       [ 0.,  1.,  3.,  3.,  1.,  0.,  0., -1., -3., -3., -1.,  0.],\n",
       "       [ 0.,  3.,  4.,  1.,  0.,  0.,  0.,  0., -1., -4., -3.,  0.],\n",
       "       [ 0.,  4.,  4.,  0.,  0.,  0.,  0.,  0.,  0., -4., -4.,  0.],\n",
       "       [ 0.,  3.,  4.,  1.,  0.,  0.,  0.,  0.,  0., -4., -4.,  0.],\n",
       "       [ 0.,  1.,  3.,  3.,  1.,  0.,  0.,  0., -1., -4., -3.,  0.],\n",
       "       [ 0.,  0.,  1.,  3.,  3.,  1.,  0., -1., -3., -3., -1.,  0.],\n",
       "       [ 0.,  0.,  0.,  1.,  3.,  2.,  0., -2., -3., -1.,  0.,  0.],\n",
       "       [ 0.,  0.,  0.,  0.,  1.,  1.,  0., -1., -1.,  0.,  0.,  0.],\n",
       "       [ 0.,  0.,  0.,  0.,  0.,  0.,  0.,  0.,  0.,  0.,  0.,  0.]])"
      ]
     },
     "execution_count": 142,
     "metadata": {},
     "output_type": "execute_result"
    }
   ],
   "source": [
    "sobelx"
   ]
  },
  {
   "cell_type": "code",
   "execution_count": 143,
   "metadata": {},
   "outputs": [],
   "source": [
    "sobely = cv.Sobel(src,cv.CV_64F,0,1,ksize=3)"
   ]
  },
  {
   "cell_type": "code",
   "execution_count": 144,
   "metadata": {},
   "outputs": [
    {
     "data": {
      "text/plain": [
       "array([[ 0.,  0.,  0.,  0.,  0.,  0.,  0.,  0.,  0.,  0.,  0.,  0.],\n",
       "       [ 0.,  0.,  0.,  1.,  3.,  4.,  4.,  3.,  1.,  0.,  0.,  0.],\n",
       "       [ 0.,  0.,  1.,  3.,  4.,  4.,  4.,  4.,  3.,  1.,  0.,  0.],\n",
       "       [ 0.,  1.,  3.,  3.,  1.,  0.,  0.,  1.,  3.,  3.,  1.,  0.],\n",
       "       [ 0.,  1.,  2.,  1.,  0.,  0.,  0.,  0.,  1.,  2.,  1.,  0.],\n",
       "       [ 0.,  0.,  0.,  0.,  0.,  0.,  0.,  0.,  0.,  0.,  0.,  0.],\n",
       "       [ 0., -1., -2., -1.,  0.,  0.,  0.,  0.,  0.,  0.,  0.,  0.],\n",
       "       [ 0., -1., -3., -3., -1.,  0.,  0.,  0., -1., -2., -1.,  0.],\n",
       "       [ 0.,  0., -1., -3., -3., -1.,  0., -1., -3., -3., -1.,  0.],\n",
       "       [ 0.,  0.,  0., -1., -3., -4., -4., -4., -3., -1.,  0.,  0.],\n",
       "       [ 0.,  0.,  0.,  0., -1., -3., -4., -3., -1.,  0.,  0.,  0.],\n",
       "       [ 0.,  0.,  0.,  0.,  0.,  0.,  0.,  0.,  0.,  0.,  0.,  0.]])"
      ]
     },
     "execution_count": 144,
     "metadata": {},
     "output_type": "execute_result"
    }
   ],
   "source": [
    "sobely"
   ]
  },
  {
   "cell_type": "code",
   "execution_count": 145,
   "metadata": {},
   "outputs": [
    {
     "data": {
      "text/plain": [
       "(Text(0.5, 1.0, 'Sobel Y'), ([], []), ([], []))"
      ]
     },
     "execution_count": 145,
     "metadata": {},
     "output_type": "execute_result"
    },
    {
     "data": {
      "image/png": "[encoded data removed]",
      "text/plain": [
       "<Figure size 432x288 with 4 Axes>"
      ]
     },
     "metadata": {},
     "output_type": "display_data"
    }
   ],
   "source": [
    "img = cv.imread('sudoku.jpeg',0)\n",
    "sobelximg = cv.Sobel(img,cv.CV_64F,1,0,ksize=5)\n",
    "sobelyimg = cv.Sobel(img,cv.CV_64F,0,1,ksize=5)\n",
    "sobelxyimg = cv.Sobel(img,cv.CV_64F,1,1,ksize=5)\n",
    "\n",
    "\n",
    "z = []\n",
    "z.append(sobelximg)\n",
    "z.append(sobelyimg)\n",
    "sobelxy = la.norm(z, axis=0)\n",
    "\n",
    "\n",
    "\n",
    "plt.subplot(2,2,1),plt.imshow(img,cmap = 'gray')\n",
    "plt.title('Original'), plt.xticks([]), plt.yticks([])\n",
    "plt.subplot(2,2,2),plt.imshow(sobelxy,cmap = 'gray')\n",
    "plt.title('sobel xy'), plt.xticks([]), plt.yticks([])\n",
    "plt.subplot(2,2,3),plt.imshow(sobelximg,cmap = 'gray')\n",
    "plt.title('Sobel X'), plt.xticks([]), plt.yticks([])\n",
    "plt.subplot(2,2,4),plt.imshow(sobelyimg,cmap = 'gray')\n",
    "plt.title('Sobel Y'), plt.xticks([]), plt.yticks([])"
   ]
  },
  {
   "cell_type": "code",
   "execution_count": 146,
   "metadata": {},
   "outputs": [],
   "source": [
    "x = np.array([[1,4,7],[5,7,9]])\n",
    "y = np.array([[1,1,1],[2,2,9]])\n",
    "z = []\n",
    "z.append(x)\n",
    "z.append(y)"
   ]
  },
  {
   "cell_type": "code",
   "execution_count": 147,
   "metadata": {},
   "outputs": [
    {
     "data": {
      "text/plain": [
       "(Text(0.5, 1.0, 'Sobel Y'), ([], []), ([], []))"
      ]
     },
     "execution_count": 147,
     "metadata": {},
     "output_type": "execute_result"
    },
    {
     "data": {
      "image/png": "[encoded data removed]",
      "text/plain": [
       "<Figure size 432x288 with 4 Axes>"
      ]
     },
     "metadata": {},
     "output_type": "display_data"
    }
   ],
   "source": [
    "from matplotlib import pyplot as plt\n",
    "\n",
    "h = []\n",
    "h.append(sobely)\n",
    "h.append(sobelx)\n",
    "sobel_xy = la.norm(h, axis=0)\n",
    "\n",
    "\n",
    "\n",
    "plt.subplot(2,2,1),plt.imshow(src,cmap = 'gray')\n",
    "plt.title('Original'), plt.xticks([]), plt.yticks([])\n",
    "plt.subplot(2,2,2),plt.imshow(sobel_xy,cmap = 'gray')\n",
    "plt.title('sobel xy'), plt.xticks([]), plt.yticks([])\n",
    "plt.subplot(2,2,3),plt.imshow(sobelx,cmap = 'gray')\n",
    "plt.title('Sobel X'), plt.xticks([]), plt.yticks([])\n",
    "plt.subplot(2,2,4),plt.imshow(sobely,cmap = 'gray')\n",
    "plt.title('Sobel Y'), plt.xticks([]), plt.yticks([])"
   ]
  },
  {
   "cell_type": "code",
   "execution_count": 148,
   "metadata": {},
   "outputs": [
    {
     "data": {
      "text/plain": [
       "array([[ 0.,  0.,  0.,  0.,  0.,  0.,  0.,  0.,  0.,  0.,  0.,  0.],\n",
       "       [ 0.,  0.,  0.,  1.,  1.,  0.,  0., -1., -1.,  0.,  0.,  0.],\n",
       "       [ 0.,  0.,  1.,  3.,  2.,  0.,  0., -2., -3., -1.,  0.,  0.],\n",
       "       [ 0.,  1.,  3.,  3.,  1.,  0.,  0., -1., -3., -3., -1.,  0.],\n",
       "       [ 0.,  3.,  4.,  1.,  0.,  0.,  0.,  0., -1., -4., -3.,  0.],\n",
       "       [ 0.,  4.,  4.,  0.,  0.,  0.,  0.,  0.,  0., -4., -4.,  0.],\n",
       "       [ 0.,  3.,  4.,  1.,  0.,  0.,  0.,  0.,  0., -4., -4.,  0.],\n",
       "       [ 0.,  1.,  3.,  3.,  1.,  0.,  0.,  0., -1., -4., -3.,  0.],\n",
       "       [ 0.,  0.,  1.,  3.,  3.,  1.,  0., -1., -3., -3., -1.,  0.],\n",
       "       [ 0.,  0.,  0.,  1.,  3.,  2.,  0., -2., -3., -1.,  0.,  0.],\n",
       "       [ 0.,  0.,  0.,  0.,  1.,  1.,  0., -1., -1.,  0.,  0.,  0.],\n",
       "       [ 0.,  0.,  0.,  0.,  0.,  0.,  0.,  0.,  0.,  0.,  0.,  0.]])"
      ]
     },
     "execution_count": 148,
     "metadata": {},
     "output_type": "execute_result"
    }
   ],
   "source": [
    "sobelx"
   ]
  },
  {
   "cell_type": "code",
   "execution_count": 149,
   "metadata": {},
   "outputs": [
    {
     "data": {
      "text/plain": [
       "array([[ 0.,  0.,  0.,  0.,  0.,  0.,  0.,  0.,  0.,  0.,  0.,  0.],\n",
       "       [ 0.,  0.,  0.,  1.,  3.,  4.,  4.,  3.,  1.,  0.,  0.,  0.],\n",
       "       [ 0.,  0.,  1.,  3.,  4.,  4.,  4.,  4.,  3.,  1.,  0.,  0.],\n",
       "       [ 0.,  1.,  3.,  3.,  1.,  0.,  0.,  1.,  3.,  3.,  1.,  0.],\n",
       "       [ 0.,  1.,  2.,  1.,  0.,  0.,  0.,  0.,  1.,  2.,  1.,  0.],\n",
       "       [ 0.,  0.,  0.,  0.,  0.,  0.,  0.,  0.,  0.,  0.,  0.,  0.],\n",
       "       [ 0., -1., -2., -1.,  0.,  0.,  0.,  0.,  0.,  0.,  0.,  0.],\n",
       "       [ 0., -1., -3., -3., -1.,  0.,  0.,  0., -1., -2., -1.,  0.],\n",
       "       [ 0.,  0., -1., -3., -3., -1.,  0., -1., -3., -3., -1.,  0.],\n",
       "       [ 0.,  0.,  0., -1., -3., -4., -4., -4., -3., -1.,  0.,  0.],\n",
       "       [ 0.,  0.,  0.,  0., -1., -3., -4., -3., -1.,  0.,  0.,  0.],\n",
       "       [ 0.,  0.,  0.,  0.,  0.,  0.,  0.,  0.,  0.,  0.,  0.,  0.]])"
      ]
     },
     "execution_count": 149,
     "metadata": {},
     "output_type": "execute_result"
    }
   ],
   "source": [
    "sobely"
   ]
  },
  {
   "cell_type": "code",
   "execution_count": 150,
   "metadata": {},
   "outputs": [
    {
     "data": {
      "text/plain": [
       "array([[0.        , 0.        , 0.        , 0.        , 0.        ,\n",
       "        0.        , 0.        , 0.        , 0.        , 0.        ,\n",
       "        0.        , 0.        ],\n",
       "       [0.        , 0.        , 0.        , 1.41421356, 3.16227766,\n",
       "        4.        , 4.        , 3.16227766, 1.41421356, 0.        ,\n",
       "        0.        , 0.        ],\n",
       "       [0.        , 0.        , 1.41421356, 4.24264069, 4.47213595,\n",
       "        4.        , 4.        , 4.47213595, 4.24264069, 1.41421356,\n",
       "        0.        , 0.        ],\n",
       "       [0.        , 1.41421356, 4.24264069, 4.24264069, 1.41421356,\n",
       "        0.        , 0.        , 1.41421356, 4.24264069, 4.24264069,\n",
       "        1.41421356, 0.        ],\n",
       "       [0.        , 3.16227766, 4.47213595, 1.41421356, 0.        ,\n",
       "        0.        , 0.        , 0.        , 1.41421356, 4.47213595,\n",
       "        3.16227766, 0.        ],\n",
       "       [0.        , 4.        , 4.        , 0.        , 0.        ,\n",
       "        0.        , 0.        , 0.        , 0.        , 4.        ,\n",
       "        4.        , 0.        ],\n",
       "       [0.        , 3.16227766, 4.47213595, 1.41421356, 0.        ,\n",
       "        0.        , 0.        , 0.        , 0.        , 4.        ,\n",
       "        4.        , 0.        ],\n",
       "       [0.        , 1.41421356, 4.24264069, 4.24264069, 1.41421356,\n",
       "        0.        , 0.        , 0.        , 1.41421356, 4.47213595,\n",
       "        3.16227766, 0.        ],\n",
       "       [0.        , 0.        , 1.41421356, 4.24264069, 4.24264069,\n",
       "        1.41421356, 0.        , 1.41421356, 4.24264069, 4.24264069,\n",
       "        1.41421356, 0.        ],\n",
       "       [0.        , 0.        , 0.        , 1.41421356, 4.24264069,\n",
       "        4.47213595, 4.        , 4.47213595, 4.24264069, 1.41421356,\n",
       "        0.        , 0.        ],\n",
       "       [0.        , 0.        , 0.        , 0.        , 1.41421356,\n",
       "        3.16227766, 4.        , 3.16227766, 1.41421356, 0.        ,\n",
       "        0.        , 0.        ],\n",
       "       [0.        , 0.        , 0.        , 0.        , 0.        ,\n",
       "        0.        , 0.        , 0.        , 0.        , 0.        ,\n",
       "        0.        , 0.        ]])"
      ]
     },
     "execution_count": 150,
     "metadata": {},
     "output_type": "execute_result"
    }
   ],
   "source": [
    "sobel_xy"
   ]
  },
  {
   "cell_type": "code",
   "execution_count": null,
   "metadata": {},
   "outputs": [],
   "source": []
  }
 ],
 "metadata": {
  "interpreter": {
   "hash": "dd771b255c381b530de54201416ba954acd896eefd8b4e84c28fca80811ffdde"
  },
  "kernelspec": {
   "display_name": "Python 3.9.2 64-bit ('env': venv)",
   "language": "python",
   "name": "python3"
  },
  "language_info": {
   "codemirror_mode": {
    "name": "ipython",
    "version": 3
   },
   "file_extension": ".py",
   "mimetype": "text/x-python",
   "name": "python",
   "nbconvert_exporter": "python",
   "pygments_lexer": "ipython3",
   "version": "3.9.2"
  },
  "orig_nbformat": 4
 },
 "nbformat": 4,
 "nbformat_minor": 2
}
